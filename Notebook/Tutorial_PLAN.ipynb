{
 "cells": [
  {
   "cell_type": "markdown",
   "id": "34c383f1-7c9e-4f40-84a3-f1492fa2d2fb",
   "metadata": {},
   "source": [
    "# Tutorial of PLAN for continous waveform"
   ]
  },
  {
   "cell_type": "markdown",
   "id": "49ea6a51-2b10-484f-b0a5-4e225d84f96c",
   "metadata": {
    "tags": []
   },
   "source": [
    "This notebook demonstrates the use of PLAN for performing the earthquake signal detection and phase (P & S) picking, association and location on continuous data. Here, we demonstrates the results using Ridgecrest squence."
   ]
  },
  {
   "cell_type": "code",
   "execution_count": 1,
   "id": "8fb29520-5c86-4904-a443-2a0b24210014",
   "metadata": {},
   "outputs": [],
   "source": [
    "%load_ext autoreload\n",
    "%autoreload 2"
   ]
  },
  {
   "cell_type": "markdown",
   "id": "51fc7164-0d38-442c-9101-13bfe6277777",
   "metadata": {},
   "source": [
    "# 1. import Lib "
   ]
  },
  {
   "cell_type": "code",
   "execution_count": 2,
   "id": "1edb7cca-b2d8-4148-b639-22f80de09106",
   "metadata": {},
   "outputs": [],
   "source": [
    "import sys   \n",
    "sys.path.append(\"..\")\n",
    "from utils.utils import *\n",
    "from utils.detect_peaks import *\n",
    "from utils.model_ridgecrest_vision import *\n",
    "from utils.continue_dataloader import *\n"
   ]
  },
  {
   "cell_type": "code",
   "execution_count": 3,
   "id": "ed81720e-c3d7-4bc3-8010-f9e0205e9dfd",
   "metadata": {},
   "outputs": [],
   "source": [
    "setup_seed(20)"
   ]
  },
  {
   "cell_type": "markdown",
   "id": "b72afae0-7713-48b3-8bf7-f43f850515e3",
   "metadata": {},
   "source": [
    "# 2. import Data and construct DataLoader"
   ]
  },
  {
   "cell_type": "code",
   "execution_count": 4,
   "id": "eb202afb-3686-46c0-bf0d-4cad3a51d2e5",
   "metadata": {},
   "outputs": [
    {
     "data": {
      "text/html": [
       "<div>\n",
       "<style scoped>\n",
       "    .dataframe tbody tr th:only-of-type {\n",
       "        vertical-align: middle;\n",
       "    }\n",
       "\n",
       "    .dataframe tbody tr th {\n",
       "        vertical-align: top;\n",
       "    }\n",
       "\n",
       "    .dataframe thead th {\n",
       "        text-align: right;\n",
       "    }\n",
       "</style>\n",
       "<table border=\"1\" class=\"dataframe\">\n",
       "  <thead>\n",
       "    <tr style=\"text-align: right;\">\n",
       "      <th></th>\n",
       "      <th>#Network</th>\n",
       "      <th>Station</th>\n",
       "      <th>Latitude</th>\n",
       "      <th>Longitude</th>\n",
       "      <th>Elevation</th>\n",
       "      <th>Sitename</th>\n",
       "      <th>StartTime</th>\n",
       "      <th>EndTime</th>\n",
       "    </tr>\n",
       "  </thead>\n",
       "  <tbody>\n",
       "    <tr>\n",
       "      <th>1</th>\n",
       "      <td>CI</td>\n",
       "      <td>CCC</td>\n",
       "      <td>35.52495</td>\n",
       "      <td>-117.36453</td>\n",
       "      <td>670.0</td>\n",
       "      <td>Christmas Canyon China Lake</td>\n",
       "      <td>2001-06-22T00:00:00</td>\n",
       "      <td>3000-01-01T00:00:00</td>\n",
       "    </tr>\n",
       "    <tr>\n",
       "      <th>2</th>\n",
       "      <td>CI</td>\n",
       "      <td>CLC</td>\n",
       "      <td>35.81574</td>\n",
       "      <td>-117.59751</td>\n",
       "      <td>775.0</td>\n",
       "      <td>China Lake</td>\n",
       "      <td>1948-07-08T00:00:00</td>\n",
       "      <td>3000-01-01T00:00:00</td>\n",
       "    </tr>\n",
       "    <tr>\n",
       "      <th>3</th>\n",
       "      <td>CI</td>\n",
       "      <td>DAW</td>\n",
       "      <td>36.27148</td>\n",
       "      <td>-117.59214</td>\n",
       "      <td>1477.4</td>\n",
       "      <td>Darwin</td>\n",
       "      <td>2017-02-27T00:00:00</td>\n",
       "      <td>3000-01-01T00:00:00</td>\n",
       "    </tr>\n",
       "    <tr>\n",
       "      <th>4</th>\n",
       "      <td>CI</td>\n",
       "      <td>JRC2</td>\n",
       "      <td>35.98249</td>\n",
       "      <td>-117.80885</td>\n",
       "      <td>1469.0</td>\n",
       "      <td>Joshua Ridge: China Lake</td>\n",
       "      <td>2004-01-15T00:00:00</td>\n",
       "      <td>3000-01-01T00:00:00</td>\n",
       "    </tr>\n",
       "    <tr>\n",
       "      <th>5</th>\n",
       "      <td>CI</td>\n",
       "      <td>LRL</td>\n",
       "      <td>35.47954</td>\n",
       "      <td>-117.68212</td>\n",
       "      <td>1340.0</td>\n",
       "      <td>Laurel Mtn</td>\n",
       "      <td>1992-07-29T00:00:00</td>\n",
       "      <td>3000-01-01T00:00:00</td>\n",
       "    </tr>\n",
       "    <tr>\n",
       "      <th>6</th>\n",
       "      <td>CI</td>\n",
       "      <td>MPM</td>\n",
       "      <td>36.05799</td>\n",
       "      <td>-117.48901</td>\n",
       "      <td>1839.0</td>\n",
       "      <td>Manuel Prospect Mine</td>\n",
       "      <td>1998-06-25T00:00:00</td>\n",
       "      <td>3000-01-01T00:00:00</td>\n",
       "    </tr>\n",
       "    <tr>\n",
       "      <th>7</th>\n",
       "      <td>CI</td>\n",
       "      <td>SLA</td>\n",
       "      <td>35.89095</td>\n",
       "      <td>-117.28332</td>\n",
       "      <td>1174.0</td>\n",
       "      <td>Slate Mountain</td>\n",
       "      <td>1999-03-09T00:00:00</td>\n",
       "      <td>3000-01-01T00:00:00</td>\n",
       "    </tr>\n",
       "    <tr>\n",
       "      <th>8</th>\n",
       "      <td>CI</td>\n",
       "      <td>SRT</td>\n",
       "      <td>35.69235</td>\n",
       "      <td>-117.75051</td>\n",
       "      <td>667.0</td>\n",
       "      <td>Snort</td>\n",
       "      <td>1982-07-31T00:00:00</td>\n",
       "      <td>3000-01-01T00:00:00</td>\n",
       "    </tr>\n",
       "    <tr>\n",
       "      <th>9</th>\n",
       "      <td>CI</td>\n",
       "      <td>TOW2</td>\n",
       "      <td>35.80856</td>\n",
       "      <td>-117.76488</td>\n",
       "      <td>685.0</td>\n",
       "      <td>Tower 2</td>\n",
       "      <td>2014-07-10T00:00:00</td>\n",
       "      <td>3000-01-01T00:00:00</td>\n",
       "    </tr>\n",
       "    <tr>\n",
       "      <th>10</th>\n",
       "      <td>CI</td>\n",
       "      <td>WBM</td>\n",
       "      <td>35.60839</td>\n",
       "      <td>-117.89049</td>\n",
       "      <td>892.0</td>\n",
       "      <td>Bowman Road</td>\n",
       "      <td>1979-09-26T00:00:00</td>\n",
       "      <td>3000-01-01T00:00:00</td>\n",
       "    </tr>\n",
       "    <tr>\n",
       "      <th>11</th>\n",
       "      <td>CI</td>\n",
       "      <td>WCS2</td>\n",
       "      <td>36.02521</td>\n",
       "      <td>-117.76526</td>\n",
       "      <td>1143.0</td>\n",
       "      <td>Coso Hot Springs 2</td>\n",
       "      <td>2014-07-14T00:00:00</td>\n",
       "      <td>3000-01-01T00:00:00</td>\n",
       "    </tr>\n",
       "    <tr>\n",
       "      <th>12</th>\n",
       "      <td>CI</td>\n",
       "      <td>WMF</td>\n",
       "      <td>36.11758</td>\n",
       "      <td>-117.85486</td>\n",
       "      <td>1537.4</td>\n",
       "      <td>Mccloud Flat</td>\n",
       "      <td>2016-07-13T20:00:00</td>\n",
       "      <td>3000-01-01T00:00:00</td>\n",
       "    </tr>\n",
       "    <tr>\n",
       "      <th>13</th>\n",
       "      <td>CI</td>\n",
       "      <td>WNM</td>\n",
       "      <td>35.84220</td>\n",
       "      <td>-117.90616</td>\n",
       "      <td>974.3</td>\n",
       "      <td>Nine Mile Canyon</td>\n",
       "      <td>1975-09-25T00:00:00</td>\n",
       "      <td>3000-01-01T00:00:00</td>\n",
       "    </tr>\n",
       "    <tr>\n",
       "      <th>14</th>\n",
       "      <td>CI</td>\n",
       "      <td>WRC2</td>\n",
       "      <td>35.94790</td>\n",
       "      <td>-117.65038</td>\n",
       "      <td>943.0</td>\n",
       "      <td>Renegade Canyon</td>\n",
       "      <td>2014-07-09T00:00:00</td>\n",
       "      <td>3000-01-01T00:00:00</td>\n",
       "    </tr>\n",
       "    <tr>\n",
       "      <th>15</th>\n",
       "      <td>CI</td>\n",
       "      <td>WRV2</td>\n",
       "      <td>36.00774</td>\n",
       "      <td>-117.89040</td>\n",
       "      <td>1070.0</td>\n",
       "      <td>Rose Valley Canyon 2</td>\n",
       "      <td>2014-07-10T00:00:00</td>\n",
       "      <td>3000-01-01T00:00:00</td>\n",
       "    </tr>\n",
       "    <tr>\n",
       "      <th>16</th>\n",
       "      <td>CI</td>\n",
       "      <td>WVP2</td>\n",
       "      <td>35.94939</td>\n",
       "      <td>-117.81769</td>\n",
       "      <td>1465.0</td>\n",
       "      <td>Volcano Peak 2</td>\n",
       "      <td>2014-07-11T00:00:00</td>\n",
       "      <td>3000-01-01T00:00:00</td>\n",
       "    </tr>\n",
       "  </tbody>\n",
       "</table>\n",
       "</div>"
      ],
      "text/plain": [
       "   #Network   Station    Latitude    Longitude    Elevation   \\\n",
       "1         CI       CCC    35.52495   -117.36453        670.0   \n",
       "2         CI       CLC    35.81574   -117.59751        775.0   \n",
       "3         CI       DAW    36.27148   -117.59214       1477.4   \n",
       "4         CI      JRC2    35.98249   -117.80885       1469.0   \n",
       "5         CI       LRL    35.47954   -117.68212       1340.0   \n",
       "6         CI       MPM    36.05799   -117.48901       1839.0   \n",
       "7         CI       SLA    35.89095   -117.28332       1174.0   \n",
       "8         CI       SRT    35.69235   -117.75051        667.0   \n",
       "9         CI      TOW2    35.80856   -117.76488        685.0   \n",
       "10        CI       WBM    35.60839   -117.89049        892.0   \n",
       "11        CI      WCS2    36.02521   -117.76526       1143.0   \n",
       "12        CI       WMF    36.11758   -117.85486       1537.4   \n",
       "13        CI       WNM    35.84220   -117.90616        974.3   \n",
       "14        CI      WRC2    35.94790   -117.65038        943.0   \n",
       "15        CI      WRV2    36.00774   -117.89040       1070.0   \n",
       "16        CI      WVP2    35.94939   -117.81769       1465.0   \n",
       "\n",
       "                      Sitename            StartTime               EndTime  \n",
       "1   Christmas Canyon China Lake  2001-06-22T00:00:00  3000-01-01T00:00:00  \n",
       "2                    China Lake  1948-07-08T00:00:00  3000-01-01T00:00:00  \n",
       "3                        Darwin  2017-02-27T00:00:00  3000-01-01T00:00:00  \n",
       "4      Joshua Ridge: China Lake  2004-01-15T00:00:00  3000-01-01T00:00:00  \n",
       "5                    Laurel Mtn  1992-07-29T00:00:00  3000-01-01T00:00:00  \n",
       "6          Manuel Prospect Mine  1998-06-25T00:00:00  3000-01-01T00:00:00  \n",
       "7                Slate Mountain  1999-03-09T00:00:00  3000-01-01T00:00:00  \n",
       "8                         Snort  1982-07-31T00:00:00  3000-01-01T00:00:00  \n",
       "9                       Tower 2  2014-07-10T00:00:00  3000-01-01T00:00:00  \n",
       "10                  Bowman Road  1979-09-26T00:00:00  3000-01-01T00:00:00  \n",
       "11           Coso Hot Springs 2  2014-07-14T00:00:00  3000-01-01T00:00:00  \n",
       "12                 Mccloud Flat  2016-07-13T20:00:00  3000-01-01T00:00:00  \n",
       "13             Nine Mile Canyon  1975-09-25T00:00:00  3000-01-01T00:00:00  \n",
       "14              Renegade Canyon  2014-07-09T00:00:00  3000-01-01T00:00:00  \n",
       "15         Rose Valley Canyon 2  2014-07-10T00:00:00  3000-01-01T00:00:00  \n",
       "16               Volcano Peak 2  2014-07-11T00:00:00  3000-01-01T00:00:00  "
      ]
     },
     "execution_count": 4,
     "metadata": {},
     "output_type": "execute_result"
    }
   ],
   "source": [
    "# We utilize 16 stations in CI Network for evaluation the performance of PLAN in Ridgecrest Squence Detection.\n",
    "station_file_path = \"../data/gmap-stations.txt\"\n",
    "station_pandas = pd.read_csv(station_file_path, sep='|')\n",
    "station_pandas = station_pandas.drop([0])\n",
    "station_pandas"
   ]
  },
  {
   "cell_type": "code",
   "execution_count": 5,
   "id": "25b0e44a-3b9e-4287-ad46-71d1d05eb3a2",
   "metadata": {},
   "outputs": [
    {
     "name": "stderr",
     "output_type": "stream",
     "text": [
      "16it [00:20,  1.28s/it]"
     ]
    },
    {
     "name": "stdout",
     "output_type": "stream",
     "text": [
      "(16, 3, 360001)\n"
     ]
    },
    {
     "name": "stderr",
     "output_type": "stream",
     "text": [
      "\n"
     ]
    }
   ],
   "source": [
    "data_file = '../data/hn5day/20190704173000.CI.'\n",
    "inputdata = load_continous_data(station_file_path,data_file,data_length = 3600)\n",
    "print(inputdata.shape)"
   ]
  },
  {
   "cell_type": "markdown",
   "id": "c5817577-9b88-415c-aeac-d3158af809a6",
   "metadata": {},
   "source": [
    "Define Dataloader"
   ]
  },
  {
   "cell_type": "code",
   "execution_count": 6,
   "id": "e3d99bf4-c70d-4543-8c18-9b9aa18efde8",
   "metadata": {},
   "outputs": [],
   "source": [
    "# start_time means how long after 17:30:00. Since the data is 100Hz sample, 30000 means 5 minute (5*60*100)\n",
    "# end_time means how long after 17:30:00.\n",
    "# interval means shift window when deal with continous data. (Here is 5 seconds)\n",
    "# Here test start_time is 17:35:00, end_time is 17:41:20\n",
    "ridge_loader,batch_start_time = construct_dataloader(inputdata,station_file_path,\n",
    "                     start_time = 30000,\n",
    "                     end_time = 70000,\n",
    "                     interval = 500,\n",
    "                     batchsize = 1,\n",
    "                     num_workers = 1)"
   ]
  },
  {
   "cell_type": "code",
   "execution_count": 27,
   "id": "f9457519-7d13-4cb0-a642-1eb00a75e6b2",
   "metadata": {},
   "outputs": [],
   "source": [
    "# for mydata in ridge_loader:\n",
    "#     print(mydata)"
   ]
  },
  {
   "cell_type": "markdown",
   "id": "bdb9a946-b0ae-41ec-8267-1d82698fada1",
   "metadata": {},
   "source": [
    "# 3. Load Model"
   ]
  },
  {
   "cell_type": "code",
   "execution_count": 7,
   "id": "3d357fe4-14aa-457d-9e00-16da8f9fa577",
   "metadata": {},
   "outputs": [],
   "source": [
    "# if you have gpu, you can change this sentence as device = torch.device('cuda')\n",
    "device = torch.device('cpu')\n",
    "model_PLAN = Main_GCNN('Trans').to(device)\n",
    "load_model_name = '../model/model_PLAN_Ridge_continue.pt'\n",
    "model_PLAN = load_model(load_model_name,model_PLAN)\n"
   ]
  },
  {
   "cell_type": "markdown",
   "id": "824c114e-22bc-499d-b85c-d37c0c07c517",
   "metadata": {},
   "source": [
    "# 4. Pred "
   ]
  },
  {
   "cell_type": "markdown",
   "id": "7afb1722-d603-4547-9406-063030651434",
   "metadata": {},
   "source": [
    "This function is corresponding with the continous workflow:\n",
    "![示例图片](../assets/Continous_workflow.jpg)"
   ]
  },
  {
   "cell_type": "markdown",
   "id": "fc008ea3-4079-4cd3-aa6e-353eb4ecba78",
   "metadata": {},
   "source": [
    "In different region, you must change stack_value and value (Unfornately, it is a little trick and need more experience). For example, you can define P_stack_value by 0.15 times number of stations and define S_stack_value by 0.075 times number of stations."
   ]
  },
  {
   "cell_type": "code",
   "execution_count": 8,
   "id": "79c7f797-495f-4173-999c-52934a4efc13",
   "metadata": {},
   "outputs": [
    {
     "name": "stderr",
     "output_type": "stream",
     "text": [
      "100%|█████████████████████████████████████████| 80/80 [00:35<00:00,  2.27it/s]\n"
     ]
    }
   ],
   "source": [
    "earthquake_time_list_p,earthquake_time_list_s,earthquake_time_list_total,earthquake_loc_list = pred(model_PLAN,\n",
    "                                                                                                    ridge_loader,\n",
    "                                                                                                    station_file_path,\n",
    "                                                                                                    device,\n",
    "                                                                                                    batch_start_time,\n",
    "                                                                                                    P_stack_value = 2.4,\n",
    "                                                                                                    S_stack_value = 1.2, \n",
    "                                                                                                    P_value = 0.24, \n",
    "                                                                                                    S_value = 0.12, \n",
    "                                                                                                    time_sample = 200, \n",
    "                                                                                                    station_num = 4)"
   ]
  },
  {
   "cell_type": "markdown",
   "id": "3d660673-3186-4509-b1ca-b4033be10850",
   "metadata": {},
   "source": [
    "After test, the break time calculate by s wave is more accuracy. Therefore, in this case, we utilized earthquake_time_list_s. For general, we can use the average time of P/S wave."
   ]
  },
  {
   "cell_type": "markdown",
   "id": "5b35751c-a506-4083-9001-eb29e6b7e110",
   "metadata": {},
   "source": [
    "# 5. Save Catalog "
   ]
  },
  {
   "cell_type": "code",
   "execution_count": 9,
   "id": "84d6b11c-f8d2-4405-be5f-737ebf651a8a",
   "metadata": {},
   "outputs": [],
   "source": [
    "# delete duplicate event within 2s\n",
    "merged_time_series, merged_coordinates = merge_time_series(earthquake_time_list_s, earthquake_loc_list,time_threshold = 2)\n",
    "final_catalog = np.concatenate([np.array(merged_time_series).reshape(-1,1),merged_coordinates],axis=-1)\n",
    "formatted_data = np.array([final_catalog[:,0]] + [final_catalog[:,i].astype(float).round(4) for i in range(1, final_catalog.shape[1])]).T\n",
    "formatted_data = formatted_data[:,0:3]\n",
    "# save catalog\n",
    "np.savetxt('test_catalog.txt', formatted_data, fmt='%s', delimiter=', ')"
   ]
  },
  {
   "cell_type": "code",
   "execution_count": null,
   "id": "06eb2ed0-c33f-472e-a1ba-94029a0ba421",
   "metadata": {},
   "outputs": [],
   "source": []
  }
 ],
 "metadata": {
  "kernelspec": {
   "display_name": "pyg2.0",
   "language": "python",
   "name": "pyg2.0"
  },
  "language_info": {
   "codemirror_mode": {
    "name": "ipython",
    "version": 3
   },
   "file_extension": ".py",
   "mimetype": "text/x-python",
   "name": "python",
   "nbconvert_exporter": "python",
   "pygments_lexer": "ipython3",
   "version": "3.9.0"
  }
 },
 "nbformat": 4,
 "nbformat_minor": 5
}
